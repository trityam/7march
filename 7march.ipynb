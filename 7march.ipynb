{
 "cells": [
  {
   "cell_type": "code",
   "execution_count": null,
   "id": "8b844202-ee7a-4fd3-b7b4-8d7e900948e0",
   "metadata": {},
   "outputs": [],
   "source": [
    "#1)Ans:--\n",
    "\"\"\"thee measure of central tendency are---\n",
    "   1) Mean\n",
    "   2)median\n",
    "   3)Mode\"\"\""
   ]
  },
  {
   "cell_type": "code",
   "execution_count": null,
   "id": "1ae201af-44ce-4020-ab3e-d32818b282b0",
   "metadata": {},
   "outputs": [],
   "source": [
    "#2)ans--\n",
    "\"\"\"\n",
    "Mean: is average of a data set is found by adding all numbers in the data set and then dividing by the number of \n",
    "values in the set.\n",
    "\n",
    "Median: is the middle value when a data set is ordered from least to greatest. \n",
    "\n",
    "Mode: is the number that occurs most often in a data set. \"\"\""
   ]
  },
  {
   "cell_type": "code",
   "execution_count": 1,
   "id": "c007d975-591d-4a47-96c9-0ab616d94a37",
   "metadata": {},
   "outputs": [
    {
     "name": "stdout",
     "output_type": "stream",
     "text": [
      "177.01875\n",
      "177.0\n",
      "ModeResult(mode=array([177.]), count=array([3]))\n"
     ]
    },
    {
     "name": "stderr",
     "output_type": "stream",
     "text": [
      "/tmp/ipykernel_177/1498836491.py:8: FutureWarning: Unlike other reduction functions (e.g. `skew`, `kurtosis`), the default behavior of `mode` typically preserves the axis it acts along. In SciPy 1.11.0, this behavior will change: the default value of `keepdims` will become False, the `axis` over which the statistic is taken will be eliminated, and the value None will no longer be accepted. Set `keepdims` to True or False to avoid this warning.\n",
      "  print(st.mode(a))\n"
     ]
    }
   ],
   "source": [
    "#3)Ans:----\n",
    "a=[178,177,176,177,178.2,178,175,179,180,175,178.9,176.2,177,172.5,178,176.5]\n",
    "import numpy as np\n",
    "from scipy import stats as st\n",
    "\n",
    "print(np.mean(a))\n",
    "print(np.median(a))\n",
    "print(st.mode(a))"
   ]
  },
  {
   "cell_type": "code",
   "execution_count": 2,
   "id": "3dc04c05-e396-4227-b60b-8da39d626fad",
   "metadata": {},
   "outputs": [
    {
     "data": {
      "text/plain": [
       "1.7885814036548633"
      ]
     },
     "execution_count": 2,
     "metadata": {},
     "output_type": "execute_result"
    }
   ],
   "source": [
    "#4)Ans:--\n",
    "b=[178,177,176,177,178.2,178,175,179,180,175,178.9,176.2,177,172.5,178,176.5]\n",
    "#standard diviation of b\n",
    "np.std(b)"
   ]
  },
  {
   "cell_type": "code",
   "execution_count": null,
   "id": "de18509f-5095-4d52-998b-23498ff91148",
   "metadata": {},
   "outputs": [],
   "source": [
    "#5)Ans:-----\n",
    "\"\"\"\n",
    "Range: It is simply the difference between the maximum value and the minimum value given in a data set.\n",
    "Example: 1, 3,5, 6, 7 => Range = 7 -1= 6\n",
    "\n",
    "Variance: Deduct the mean from each data in the set, square each of them and add each square and finally divide \n",
    "them by the total no of values in the data set to get the variance. Variance (σ2) = ∑(X−μ)2/N\n",
    "\n",
    "Standard Deviation: The square root of the variance is known as the standard deviation i.e. S.D. = √σ.\n",
    "\"\"\""
   ]
  },
  {
   "cell_type": "code",
   "execution_count": null,
   "id": "8c464c0a-27d3-4e0f-90dd-dc9d66e125a2",
   "metadata": {},
   "outputs": [],
   "source": [
    "#6)Ans:---\n",
    "'''A diagram used to represent all possible relations of different sets.'''"
   ]
  },
  {
   "cell_type": "code",
   "execution_count": null,
   "id": "4831e720-f3f5-4645-95e1-f2c07e7fa434",
   "metadata": {},
   "outputs": [],
   "source": [
    "#7)Ans:---\n",
    "'''A = (2,3,4,5,6,7) & B = (0,2,6,8,10).\n",
    "1)={0,2,3,4,5,6,7,8,10}\n",
    "2)={2,6}'''"
   ]
  },
  {
   "cell_type": "code",
   "execution_count": null,
   "id": "0487dddb-3c9b-4bad-af8c-744bd51c308a",
   "metadata": {},
   "outputs": [],
   "source": [
    "#8)Ans:--\n",
    "'''\n",
    "Skewness is a measure of the asymmetry of a distribution. A distribution is asymmetrical when its left and right \n",
    "side are not mirror images.\n",
    "A distribution can have right (or positive), left (or negative), or zero skewness. A right-skewed distribution is\n",
    "longer on the right side of its peak, and a left-skewed distribution is longer on the left side of its peak.\n",
    "'''"
   ]
  },
  {
   "cell_type": "code",
   "execution_count": null,
   "id": "41c21ebf-1152-4ad1-be4f-a336a366ac84",
   "metadata": {},
   "outputs": [],
   "source": [
    "#9)Ans:---\n",
    "'''\n",
    "The mean of a right-skewed distribution is almost always greater than its median. That’s because extreme values \n",
    "(the values in the tail) affect the mean more than the median.\n",
    "Right skew: mean > median\n",
    "For example, the mean number of sunspots observed per year was 48.6, which is greater than the median of 39.\n",
    "'''"
   ]
  },
  {
   "cell_type": "code",
   "execution_count": null,
   "id": "2a2eb2b0-a5c7-4284-b404-35c1c7581e29",
   "metadata": {},
   "outputs": [],
   "source": [
    "#10)Ans:--\n",
    "'''\n",
    "covariance\n",
    "1)defination-  Covariance is an indicator of the extent to which 2 random variables are dependent on each other.\n",
    "A higher number denotes higher dependency.\n",
    "2)valu-  The value of covariance lies in the range of -∞ and +∞.\n",
    "3)Change in scale- Affects covariance\n",
    "4)Unit-free measure-  No\n",
    "\n",
    "correlation\n",
    "1)definaton-  Correlation is a statistical measure that indicates how strongly two variables are related.\n",
    "2)value-  Correlation is limited to values between the range -1 and +1\n",
    "3)change in scale-  does not affect the correlation\n",
    "4)unit free measur- yes\n",
    "'''"
   ]
  },
  {
   "cell_type": "code",
   "execution_count": 3,
   "id": "20879100-c9f5-49b7-9916-adbb9a6db25c",
   "metadata": {},
   "outputs": [
    {
     "data": {
      "text/plain": [
       "69.0"
      ]
     },
     "execution_count": 3,
     "metadata": {},
     "output_type": "execute_result"
    }
   ],
   "source": [
    "#11)Ans:--\n",
    "'''\n",
    "The sample mean formula is written as\n",
    "\n",
    "Sample Mean = (Sum of terms) ÷ (Number of Terms) = ∑xi/n\n",
    "\n",
    "Example 1: Find the sample mean of 60, 57, 109, 50.\n",
    "\n",
    "Solution: \n",
    "\n",
    "To find: Sample mean\n",
    "Sum of terms = 60 + 57 + 109 + 50 = 276\n",
    "Number of terms = 4\n",
    "Using sample mean formula,\n",
    "mean = (sum of terms)/(number of terms)\n",
    "mean = 276/4 = 69\n",
    "\n",
    "Answer: The sample mean of 60, 57, 109, 50 is  69.\n",
    "'''\n",
    "a=[60,57,109,50]\n",
    "np.mean(a)\n"
   ]
  },
  {
   "cell_type": "code",
   "execution_count": null,
   "id": "394db18e-73e6-46e2-88c8-e265b882e5a3",
   "metadata": {},
   "outputs": [],
   "source": [
    "#12)Ans:---\n",
    "'''\n",
    "In a normal distribution, data is symmetrically distributed with no skew. Most values cluster around a central \n",
    "region, with values tapering off as they go further away from the center. The mean, mode and median are exactly \n",
    "the same in a normal distribution.\n",
    "'''"
   ]
  },
  {
   "cell_type": "code",
   "execution_count": null,
   "id": "07dc7878-e0c7-4692-a569-be24a4feda0d",
   "metadata": {},
   "outputs": [],
   "source": [
    "#13)Ans:--\n",
    "'''\n",
    "Covariance reveals how two variables change together while correlation determines how closely two variables are \n",
    "related to each other.\n",
    "\n",
    "Both covariance and correlation measure the relationship and the dependency between two variables.\n",
    "Covariance indicates the direction of the linear relationship between variables.\n",
    "Correlation measures both the strength and direction of the linear relationship between two variables.\n",
    "Correlation values are standardized.\n",
    "Covariance values are not standardized.\n",
    "'''\n",
    " "
   ]
  },
  {
   "cell_type": "code",
   "execution_count": null,
   "id": "005bf4c3-9d06-4f8a-b3a7-93a8d2b105c6",
   "metadata": {},
   "outputs": [],
   "source": [
    "#14)Ans:---\n",
    "'''\n",
    "Measures of Central Tendency:\n",
    "\n",
    "Mean: Outliers can pull the mean towards their extreme values. If there are outliers with large values, the mean\n",
    "can be inflated, while outliers with small values can lower the mean.\n",
    "Median: The median is less affected by outliers compared to the mean. It represents the middle value, so outliers\n",
    "have less impact unless they are close to the median and significantly change the order of values.\n",
    "Mode: The mode is the most frequent value. Outliers do not directly affect the mode unless they appear frequently\n",
    "and change the overall distribution of values.\n",
    "'''"
   ]
  }
 ],
 "metadata": {
  "kernelspec": {
   "display_name": "Python 3 (ipykernel)",
   "language": "python",
   "name": "python3"
  },
  "language_info": {
   "codemirror_mode": {
    "name": "ipython",
    "version": 3
   },
   "file_extension": ".py",
   "mimetype": "text/x-python",
   "name": "python",
   "nbconvert_exporter": "python",
   "pygments_lexer": "ipython3",
   "version": "3.10.8"
  }
 },
 "nbformat": 4,
 "nbformat_minor": 5
}
